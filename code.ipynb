{
 "cells": [
  {
   "cell_type": "code",
   "execution_count": null,
   "metadata": {},
   "outputs": [],
   "source": [
    "import csv\n",
    "import re\n",
    "import pdfplumber\n",
    "from langchain.chains import LLMChain\n",
    "from langchain.prompts import PromptTemplate\n",
    "from langchain.llms import HuggingFacePipeline\n",
    "from transformers import pipeline\n",
    "from sklearn.feature_extraction.text import TfidfVectorizer\n",
    "from sklearn.metrics.pairwise import cosine_similarity"
   ]
  },
  {
   "cell_type": "code",
   "execution_count": 44,
   "metadata": {},
   "outputs": [],
   "source": [
    "job_search = input(\"Enter the job title you're looking for: \").strip()"
   ]
  },
  {
   "cell_type": "code",
   "execution_count": null,
   "metadata": {},
   "outputs": [],
   "source": [
    "def clean_job_title(job_title_from_url):\n",
    "    cleaned_title = job_title_from_url.replace(\"-\", \" \").title()\n",
    "    return cleaned_title\n",
    "\n",
    "matching_job = None\n",
    "matching_skills = None\n",
    "\n",
    "try:\n",
    "    with open('job_skills.csv', mode='r', newline='', encoding='utf-8') as file:\n",
    "        csv_reader = csv.reader(file)\n",
    "\n",
    "        for row in csv_reader:\n",
    "\n",
    "            job_url, required_skills = row\n",
    "\n",
    "            job_title_from_url = re.search(r'view/(.*?)-\\d+', job_url)\n",
    "\n",
    "            if job_title_from_url:\n",
    "                job_title = clean_job_title(job_title_from_url.group(1))\n",
    "            else:\n",
    "                continue \n",
    "\n",
    "            if job_search.lower() in job_title.lower():\n",
    "                matching_job = job_title\n",
    "                matching_skills = required_skills\n",
    "                break\n",
    "\n",
    "except FileNotFoundError:\n",
    "    print(\"The file 'job_skills.csv' was not found.\")\n",
    "    exit()\n",
    "\n",
    "if matching_job:\n",
    "    print(f\"Matching job found: {matching_job}\")\n",
    "    print(f\"Associated skills: {matching_skills}\")\n",
    "else:\n",
    "    print(\"No matching job found.\")"
   ]
  },
  {
   "cell_type": "markdown",
   "metadata": {},
   "source": [
    "# Enter Skills Manually"
   ]
  },
  {
   "cell_type": "code",
   "execution_count": null,
   "metadata": {},
   "outputs": [],
   "source": [
    "user_skills = input(\"Enter your skills (comma separated): \").strip()\n",
    "new_skills = matching_skills\n",
    "\n",
    "user_skills_list = [skill.strip() for skill in user_skills.split(\",\")]\n",
    "new_skills_list = [skill.strip() for skill in new_skills.split(\",\")]\n",
    "\n",
    "user_skills_set = set(skill.lower() for skill in user_skills_list)\n",
    "new_skills_set = set(skill.lower() for skill in new_skills_list)\n",
    "\n",
    "missing_skills = new_skills_set - user_skills_set\n",
    "\n",
    "if missing_skills:\n",
    "    missing_skills_list = [skill for skill in new_skills_list if skill.lower() in missing_skills]\n",
    "    grouped_skills = [\", \".join(missing_skills_list[i:i+3]) for i in range(0, len(missing_skills_list), 3)]\n",
    "    print(\"Other Skills Required:\")\n",
    "    print(\"\\n\".join(grouped_skills))\n",
    "else:\n",
    "    print(\"The user has all the required skills.\")\n"
   ]
  },
  {
   "cell_type": "markdown",
   "metadata": {},
   "source": [
    "# PDF"
   ]
  },
  {
   "cell_type": "code",
   "execution_count": null,
   "metadata": {},
   "outputs": [],
   "source": [
    "def clean_job_title(job_title_from_url):\n",
    "    cleaned_title = job_title_from_url.replace(\"-\", \" \").title()\n",
    "    return cleaned_title\n",
    "\n",
    "def extract_resume_text(pdf_path):\n",
    "    full_text = \"\"\n",
    "    with pdfplumber.open(pdf_path) as pdf:\n",
    "        for page in pdf.pages:\n",
    "            full_text += page.extract_text()\n",
    "    return full_text\n",
    "\n",
    "def clean_resume_text(resume_text):\n",
    "    cleaned_text = re.sub(r'http\\S+|www\\S+|[\\d]{4}-[\\d]{2}-[\\d]{2}|[\\d]{4}-[\\d]{2}|[\\d]{2}/\\d{2}/\\d{4}', '', resume_text)\n",
    "    cleaned_text = re.sub(r'\\s+', ' ', cleaned_text).strip()\n",
    "    return cleaned_text\n",
    "\n",
    "def split_into_sections(resume_text):\n",
    "    sections = re.split(r'\\n\\s*\\n', resume_text)\n",
    "    return sections\n",
    "\n",
    "def extract_skills_from_section(section):\n",
    "    section = section.lower()\n",
    "    section = re.sub(r'[^\\w\\s,•]', '', section)\n",
    "    skill_list = [skill.strip() for skill in re.split(r'[,\\n•]', section) if skill.strip()]\n",
    "    return skill_list\n",
    "\n",
    "def identify_skill_sections(sections):\n",
    "    vectorizer = TfidfVectorizer()\n",
    "\n",
    "    section_vectors = vectorizer.fit_transform(sections)\n",
    "\n",
    "    similarity_matrix = cosine_similarity(section_vectors)\n",
    "\n",
    "    skill_sections = []\n",
    "    for i, section in enumerate(sections):\n",
    "        if similarity_matrix[i].max() > 0.2:\n",
    "            skill_sections.append(section)\n",
    "\n",
    "    return skill_sections\n",
    "\n",
    "def compare_skills(extracted_skills, job_skills_required):\n",
    "    extracted_skills_set = set(extracted_skills.lower().split(\",\"))\n",
    "    job_skills_set = set(job_skills_required.lower().split(\",\"))\n",
    "\n",
    "    extracted_skills_set = {skill.strip() for skill in extracted_skills_set}\n",
    "    job_skills_set = {skill.strip() for skill in job_skills_set}\n",
    "\n",
    "    missing_skills = job_skills_set - extracted_skills_set\n",
    "\n",
    "    if missing_skills:\n",
    "        missing_skills_list = list(missing_skills)\n",
    "        grouped_skills = [\", \".join(missing_skills_list[i:i+3]) for i in range(0, len(missing_skills_list), 3)]\n",
    "        return f\"Other Skills Required:\\n\" + \"\\n\".join(grouped_skills)\n",
    "    else:\n",
    "        return \"The resume has all the required skills.\"\n",
    "\n",
    "if __name__ == \"__main__\":\n",
    "    pdf_path = r\"\" # PUT CV/RESUME path here\n",
    "    resume_text = extract_resume_text(pdf_path)\n",
    "    cleaned_resume_text = clean_resume_text(resume_text)\n",
    "\n",
    "    sections = split_into_sections(cleaned_resume_text)\n",
    "    skill_sections = identify_skill_sections(sections)\n",
    "    all_skills = []\n",
    "    for section in skill_sections:\n",
    "        skills = extract_skills_from_section(section)\n",
    "        all_skills.extend(skills)\n",
    "\n",
    "    extracted_skills = \", \".join(all_skills)\n",
    "\n",
    "    result = compare_skills(extracted_skills, matching_skills)\n",
    "    print(result)"
   ]
  },
  {
   "cell_type": "markdown",
   "metadata": {},
   "source": [
    "# Add other skills (not mentioned in the resume)"
   ]
  },
  {
   "cell_type": "code",
   "execution_count": null,
   "metadata": {},
   "outputs": [],
   "source": [
    "add_more = input(\"\\nDo you have more skills to add? (yes/no): \").strip().lower()\n",
    "if add_more == \"yes\":\n",
    "    additional_skills = input(\"Enter the additional skills you have (comma separated): \").strip()\n",
    "    updated_extracted_skills = extracted_skills + \", \" + additional_skills.lower()\n",
    "\n",
    "    updated_result = compare_skills(updated_extracted_skills, matching_skills)\n",
    "    print(\"\\nUpdated Missing Skills:\")\n",
    "    print(updated_result)\n",
    "else:\n",
    "    print(\"No additional skills added.\")"
   ]
  }
 ],
 "metadata": {
  "kernelspec": {
   "display_name": "myenv",
   "language": "python",
   "name": "python3"
  },
  "language_info": {
   "codemirror_mode": {
    "name": "ipython",
    "version": 3
   },
   "file_extension": ".py",
   "mimetype": "text/x-python",
   "name": "python",
   "nbconvert_exporter": "python",
   "pygments_lexer": "ipython3",
   "version": "3.10.6"
  }
 },
 "nbformat": 4,
 "nbformat_minor": 2
}
